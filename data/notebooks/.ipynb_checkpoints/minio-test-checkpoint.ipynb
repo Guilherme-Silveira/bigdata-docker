{
 "cells": [
  {
   "cell_type": "code",
   "execution_count": null,
   "id": "870ad00b-85ef-4266-a37b-25e498eb36bb",
   "metadata": {},
   "outputs": [],
   "source": [
    "from pyspark import SparkContext, SparkConf\n",
    "from pyspark.sql import SparkSession\n",
    "\n",
    "conf = SparkConf()\n",
    "\n",
    "conf.setAppName(\"Spark minIO Test\")\n",
    "conf.set(\"spark.hadoop.fs.s3a.endpoint\", \"http://minio:9000\")\n",
    "conf.set(\"spark.hadoop.fs.s3a.access.key\", \"silveira\")\n",
    "conf.set(\"spark.hadoop.fs.s3a.secret.key\", \"guilherme@123\")\n",
    "conf.set(\"spark.hadoop.fs.s3a.path.style.access\", True)\n",
    "conf.set(\"spark.hadoop.fs.s3a.impl\", \"org.apache.hadoop.fs.s3a.S3AFileSystem\")\n",
    "conf.set('spark.hadoop.fs.s3a.aws.credentials.provider', 'org.apache.hadoop.fs.s3a.SimpleAWSCredentialsProvider')\n",
    "conf.set(\"spark.sql.extensions\", \"io.delta.sql.DeltaSparkSessionExtension\")\n",
    "conf.set(\"spark.sql.catalog.spark_catalog\", \"org.apache.spark.sql.delta.catalog.DeltaCatalog\") \n",
    "conf.set(\"hive.metastore.uris\", \"thrift://metastore:9083\")\n",
    "\n",
    "spark = SparkSession.builder.config(conf=conf).enableHiveSupport().getOrCreate()"
   ]
  },
  {
   "cell_type": "code",
   "execution_count": null,
   "id": "a6c6439b-8169-487d-94b1-dd4153410ec2",
   "metadata": {},
   "outputs": [],
   "source": [
    "df = spark.read.table('raw.pessoas')\n",
    "df.show()"
   ]
  },
  {
   "cell_type": "code",
   "execution_count": null,
   "id": "8c9b3d41-f7ff-4352-9a7f-110bab277c3d",
   "metadata": {},
   "outputs": [],
   "source": [
    "df.write.format('delta').saveAsTable('delta.pessoas')"
   ]
  },
  {
   "cell_type": "code",
   "execution_count": null,
   "id": "a1d4e599-babc-4d29-b8f3-9870af8980e2",
   "metadata": {},
   "outputs": [],
   "source": [
    "df_delta = spark.read.format('delta').load('s3a://delta/pessoas')\n",
    "df_delta.show()"
   ]
  }
 ],
 "metadata": {
  "kernelspec": {
   "display_name": "Python 3 (ipykernel)",
   "language": "python",
   "name": "python3"
  },
  "language_info": {
   "codemirror_mode": {
    "name": "ipython",
    "version": 3
   },
   "file_extension": ".py",
   "mimetype": "text/x-python",
   "name": "python",
   "nbconvert_exporter": "python",
   "pygments_lexer": "ipython3",
   "version": "3.9.2"
  }
 },
 "nbformat": 4,
 "nbformat_minor": 5
}
